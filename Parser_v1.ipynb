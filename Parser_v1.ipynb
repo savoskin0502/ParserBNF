{
 "cells": [
  {
   "cell_type": "code",
   "execution_count": 1,
   "metadata": {},
   "outputs": [],
   "source": [
    "class Parser:\n",
    "    \"\"\"Simple Parser for the next BNF:\n",
    "    <Expression> ::= <Fact> [ <Operand> <Fact> | <Operand> <Fact> ]\n",
    "    <Fact> ::= <Term> [ <Operand> <Fact> | <Operand> <Fact> ]\n",
    "    <Term> ::= ( <Exp> ) | <Number>\n",
    "    <Number> ::= 0 | 1 | 2 | 3 | 4 | 5 | 6 | 7 | 8 | 9\n",
    "    <Operand> ::= + | - | * | /\n",
    "    \"\"\"\n",
    "    \n",
    "    def __init__(self, string):\n",
    "        self.string = string\n",
    "        self.index = 0\n",
    "    \n",
    "    getChar = lambda self: self.string[self.index:self.index+1]\n",
    "    isString = lambda self: self.index < len(self.string)\n",
    "    increment = lambda self: self.index + 1\n",
    "    factorValues = lambda self: [self.parseFactor()]\n",
    "    termValues = lambda self: [self.parseTerm()]\n",
    "    \n",
    "    def parseExpression(self):\n",
    "        values = self.factorValues()\n",
    "        while True:\n",
    "            char = self.getChar()\n",
    "            if char == '+':\n",
    "                self.index = self.increment()\n",
    "                values.append(self.parseFactor())\n",
    "            elif char == '-':\n",
    "                self.index = self.increment()\n",
    "                values.append(-1*self.parseFactor())\n",
    "            else:\n",
    "                break\n",
    "        return sum(values)\n",
    "    \n",
    "    def parseFactor(self):\n",
    "        values = self.termValues()\n",
    "        while True:\n",
    "            char = self.getChar()\n",
    "            if char == '*':\n",
    "                self.index = self.increment()\n",
    "                values.append(self.parseTerm())\n",
    "            elif char == '/':\n",
    "                div_index = self.index\n",
    "                self.index = self.increment()\n",
    "                denominator = self.parseTerm()\n",
    "                values.append(1.0 / denominator)\n",
    "            else:\n",
    "                break\n",
    "        value = 1.0\n",
    "        for factor in values:\n",
    "            value *= factor\n",
    "        return value\n",
    "    \n",
    "    def parseTerm(self):\n",
    "        char = self.getChar()\n",
    "        if char == '(':\n",
    "            self.index = self.increment()\n",
    "            value = self.parseExpression()\n",
    "            self.index = self.increment()\n",
    "            return value\n",
    "        elif char == '-':\n",
    "            self.index = self.increment()\n",
    "            return -1 * self.parseTerm()\n",
    "        else:\n",
    "            return self.parseNumber()\n",
    "\n",
    "    def parseNumber(self):\n",
    "        strValue = ''\n",
    "        while self.isString():\n",
    "            char = self.getChar()           \n",
    "            if char == '.':\n",
    "                strValue += '.'\n",
    "            elif char.isdigit():\n",
    "                strValue += char\n",
    "            else:\n",
    "                break\n",
    "            self.index = self.increment()\n",
    "    \n",
    "        return float(strValue)\n",
    "            "
   ]
  },
  {
   "cell_type": "code",
   "execution_count": 2,
   "metadata": {},
   "outputs": [],
   "source": [
    "def evaluate(expression):\n",
    "    return Parser(expression).parseExpression()"
   ]
  },
  {
   "cell_type": "code",
   "execution_count": 3,
   "metadata": {
    "scrolled": true
   },
   "outputs": [
    {
     "data": {
      "text/plain": [
       "19.0"
      ]
     },
     "execution_count": 3,
     "metadata": {},
     "output_type": "execute_result"
    }
   ],
   "source": [
    "evaluate(\"((45+2)-10*6/2+(10-2*6))+40/2/5\")"
   ]
  },
  {
   "cell_type": "code",
   "execution_count": 4,
   "metadata": {},
   "outputs": [
    {
     "data": {
      "text/plain": [
       "42.0"
      ]
     },
     "execution_count": 4,
     "metadata": {},
     "output_type": "execute_result"
    }
   ],
   "source": [
    "evaluate(\"2+4*5*(10-2*3)/2\")"
   ]
  }
 ],
 "metadata": {
  "kernelspec": {
   "display_name": "Python 3",
   "language": "python",
   "name": "python3"
  },
  "language_info": {
   "codemirror_mode": {
    "name": "ipython",
    "version": 3
   },
   "file_extension": ".py",
   "mimetype": "text/x-python",
   "name": "python",
   "nbconvert_exporter": "python",
   "pygments_lexer": "ipython3",
   "version": "3.7.3"
  }
 },
 "nbformat": 4,
 "nbformat_minor": 2
}
